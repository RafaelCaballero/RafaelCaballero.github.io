{
 "cells": [
  {
   "cell_type": "markdown",
   "metadata": {},
   "source": [
    "# Massive Data Management -  Regression\n",
    "\n",
    "##  Solution\n",
    "\n",
    "\n",
    "## Setup"
   ]
  },
  {
   "cell_type": "code",
   "execution_count": 21,
   "metadata": {},
   "outputs": [
    {
     "name": "stdout",
     "output_type": "stream",
     "text": [
      "Checking required modules\n",
      "findspark  found\n",
      "pyspark  found\n",
      "Done!\n",
      "+-----+\n",
      "|   hi|\n",
      "+-----+\n",
      "|spark|\n",
      "+-----+\n",
      "\n",
      "Ready!\n"
     ]
    }
   ],
   "source": [
    "import os.path\n",
    "from subprocess import check_call\n",
    "import importlib\n",
    "import os\n",
    "import sys\n",
    "\n",
    "modules = [\"findspark\",\"pyspark\"]\n",
    "\n",
    "\n",
    "print(\"Checking required modules\")\n",
    "for m in modules:\n",
    "    torch_loader = importlib.util.find_spec(m)\n",
    "    if torch_loader is not None:\n",
    "        print(m,\" found\")\n",
    "    else:\n",
    "        print(m,\" not found, installing\")\n",
    "        if 'google.colab' in sys.modules:\n",
    "            check_call([\"pip\", \"install\", \"-q\", m])\n",
    "        else:\n",
    "            check_call([sys.executable, \"-m\", \"pip\", \"install\", \"--user\", m])\n",
    "print(\"Done!\")\n",
    "#!pip install -q findspark\n",
    "#  !pip install -q pyspark\n",
    "import findspark\n",
    "findspark.init()\n",
    "\n",
    "import pyspark # only run after findspark.init()\n",
    "from pyspark.sql import SparkSession\n",
    "spark = SparkSession.builder.getOrCreate()\n",
    "sc = spark.sparkContext\n",
    "\n",
    "\n",
    "df = spark.sql('''select 'spark' as hi ''')\n",
    "df.show()\n",
    "print(\"Ready!\")"
   ]
  },
  {
   "cell_type": "markdown",
   "metadata": {},
   "source": [
    "### Exercise 1\n",
    "\n",
    "Write a function `load_file(file)` :\n",
    "\n",
    "- *Name*: `load_file`\n",
    "- *Input parameters*: \n",
    "    - `file`: Path to a local CSV file. We assume that the CSV contains a header and that the schema can be automatically inferred\n",
    " \n",
    "- *Returns*: A Spark dataframe\n",
    "\n"
   ]
  },
  {
   "cell_type": "code",
   "execution_count": 22,
   "metadata": {},
   "outputs": [],
   "source": [
    "def load_file(file):\n",
    "    df = spark.read.format(\"com.databricks.spark.csv\")\\\n",
    "            .options(header='true', inferschema='true') \\\n",
    "            .load(file)\n",
    "    return df"
   ]
  },
  {
   "cell_type": "markdown",
   "metadata": {},
   "source": [
    "**Test**\n",
    "\n",
    "First we download the data locally. If this does not work just download the data file from the course web page to the same folder of this notebook and proceed with the next step\n"
   ]
  },
  {
   "cell_type": "code",
   "execution_count": 23,
   "metadata": {},
   "outputs": [],
   "source": [
    "import urllib.request\n",
    "url = \"http://gpd.sip.ucm.es/rafa/docencia/mtda/mdm/data/pisaDataClean.csv\"\n",
    "file = \"./pisaDataClean.csv\"\n",
    "f = urllib.request.urlretrieve(url,file )\n"
   ]
  },
  {
   "cell_type": "code",
   "execution_count": 24,
   "metadata": {},
   "outputs": [
    {
     "name": "stdout",
     "output_type": "stream",
     "text": [
      "root\n",
      " |-- RPC: integer (nullable = true)\n",
      " |-- COUNTRY: string (nullable = true)\n",
      " |-- MAT: double (nullable = true)\n",
      " |-- MAT_FE: double (nullable = true)\n",
      " |-- MAT_MA: double (nullable = true)\n",
      " |-- REA: double (nullable = true)\n",
      " |-- REA_FE: double (nullable = true)\n",
      " |-- REA_MA: double (nullable = true)\n",
      " |-- SCI: double (nullable = true)\n",
      " |-- SCI_FE: double (nullable = true)\n",
      " |-- SCI_MA: double (nullable = true)\n",
      "\n"
     ]
    }
   ],
   "source": [
    "file = \"./pisaDataClean.csv\"\n",
    "# Now call to our function\n",
    "df = load_file(file)\n",
    "df.printSchema() # show the dataframe schema"
   ]
  },
  {
   "cell_type": "markdown",
   "metadata": {},
   "source": [
    "The data are taken from the **Pisa report**, an international Programme for International Student Assessment. PISA measures 15-year-olds’ ability to use their reading, mathematics and science knowledge and skills to meet real-life challenges.\n",
    "\n",
    "    - RPC: Country GPD per capita\n",
    "    - COUNTRY: Country name\n",
    "    - MAT: Maths average qualification in this country\n",
    "    - MAT_FE: Maths average qualification for females\n",
    "    - MAT_MA: Maths average qualification for males\n",
    "    - REA: Reading average qualification\n",
    "    - REA_FE: Reading average qualification for females\n",
    "    - REA_MA: Reading average qualification for males\n",
    "    - SCI: Science average qualification \t\n",
    "    - SCI_FE: Science average qualification for females\n",
    "    - SCI_MA: Science average qualifications  for males\n",
    "    \n",
    "    "
   ]
  },
  {
   "cell_type": "markdown",
   "metadata": {},
   "source": [
    "### Exercise 2\n",
    "\n",
    "Write a function `histogram` that shows the histogram of a numeric column (have a look to [our notebook](http://gpd.sip.ucm.es/rafa/docencia/mtda/mdm/code/spark_SQL_en.ipynb) for introducing dataframes, Spark SQL and statistics).\n",
    "\n",
    "- *Name*: `histogram`\n",
    "- *Input parameters*: \n",
    "    - `df`: A Spark dataframe\n",
    "    - `col`: The column to analyze\n",
    "    - `bins`: number of bars\n",
    "    - `color`: color of bars\n",
    " \n",
    "- *Returns*: Nothing, it just shows the histogram\n"
   ]
  },
  {
   "cell_type": "code",
   "execution_count": 25,
   "metadata": {},
   "outputs": [],
   "source": [
    "from pyspark_dist_explore import hist\n",
    "import matplotlib.pyplot as plt\n",
    "%matplotlib inline\n",
    "\n",
    "# solution\n",
    "def histogram(df,col,bins=20,color=\"red\"):\n",
    "    fig,ax = plt.subplots()\n",
    "    hist(ax, df.select([col]), bins = bins, color=[color])\n",
    "    plt.xlabel(col)\n",
    "    plt.show()"
   ]
  },
  {
   "cell_type": "markdown",
   "metadata": {},
   "source": [
    "The following code shows the histograms of all the columns excepting *country*"
   ]
  },
  {
   "cell_type": "code",
   "execution_count": 26,
   "metadata": {
    "scrolled": false
   },
   "outputs": [
    {
     "data": {
      "image/png": "[encoded data removed]",
      "text/plain": [
       "<Figure size 432x288 with 1 Axes>"
      ]
     },
     "metadata": {
      "needs_background": "light"
     },
     "output_type": "display_data"
    },
    {
     "data": {
      "image/png": "[encoded data removed]",
      "text/plain": [
       "<Figure size 432x288 with 1 Axes>"
      ]
     },
     "metadata": {
      "needs_background": "light"
     },
     "output_type": "display_data"
    },
    {
     "data": {
      "image/png": "[encoded data removed]",
      "text/plain": [
       "<Figure size 432x288 with 1 Axes>"
      ]
     },
     "metadata": {
      "needs_background": "light"
     },
     "output_type": "display_data"
    },
    {
     "data": {
      "image/png": "[encoded data removed]",
      "text/plain": [
       "<Figure size 432x288 with 1 Axes>"
      ]
     },
     "metadata": {
      "needs_background": "light"
     },
     "output_type": "display_data"
    },
    {
     "data": {
      "image/png": "[encoded data removed]",
      "text/plain": [
       "<Figure size 432x288 with 1 Axes>"
      ]
     },
     "metadata": {
      "needs_background": "light"
     },
     "output_type": "display_data"
    },
    {
     "data": {
      "image/png": "[encoded data removed]",
      "text/plain": [
       "<Figure size 432x288 with 1 Axes>"
      ]
     },
     "metadata": {
      "needs_background": "light"
     },
     "output_type": "display_data"
    },
    {
     "data": {
      "image/png": "[encoded data removed]",
      "text/plain": [
       "<Figure size 432x288 with 1 Axes>"
      ]
     },
     "metadata": {
      "needs_background": "light"
     },
     "output_type": "display_data"
    },
    {
     "data": {
      "image/png": "[encoded data removed]",
      "text/plain": [
       "<Figure size 432x288 with 1 Axes>"
      ]
     },
     "metadata": {
      "needs_background": "light"
     },
     "output_type": "display_data"
    },
    {
     "data": {
      "image/png": "[encoded data removed]",
      "text/plain": [
       "<Figure size 432x288 with 1 Axes>"
      ]
     },
     "metadata": {
      "needs_background": "light"
     },
     "output_type": "display_data"
    },
    {
     "data": {
      "image/png": "[encoded data removed]",
      "text/plain": [
       "<Figure size 432x288 with 1 Axes>"
      ]
     },
     "metadata": {
      "needs_background": "light"
     },
     "output_type": "display_data"
    }
   ],
   "source": [
    "from matplotlib.pyplot import cm\n",
    "import numpy as np\n",
    "nocountry = [x for x in df.columns if x not in ['COUNTRY']]\n",
    "n = len(nocountry)\n",
    "color = iter(cm.rainbow(np.linspace(0, 1, n)))\n",
    "for i in range(n):\n",
    "    c = next(color)\n",
    "    histogram(df,nocountry[i],bins=30,color=c)"
   ]
  },
  {
   "cell_type": "markdown",
   "metadata": {},
   "source": [
    "### Exercise 3\n",
    "\n",
    "Now our goal is to predict the score in MATH from the GPD per capita (column RPC).\n",
    "Write code to obtain a new dataframe `df_mat` such that:\n",
    "\n",
    "  - Only contains columns RPC and MAT (use function [select](https://sparkbyexamples.com/pyspark/select-columns-from-pyspark-dataframe/))\n",
    "\n",
    "  - Rename column MAT to `label` (use function [withColumnRenamed](https://sparkbyexamples.com/pyspark/pyspark-rename-dataframe-column/)"
   ]
  },
  {
   "cell_type": "code",
   "execution_count": 27,
   "metadata": {},
   "outputs": [],
   "source": [
    "# solution\n",
    "df_mat = df.select(\"RPC\",\"MAT\").withColumnRenamed(\"MAT\",\"label\")"
   ]
  },
  {
   "cell_type": "code",
   "execution_count": 28,
   "metadata": {},
   "outputs": [
    {
     "name": "stdout",
     "output_type": "stream",
     "text": [
      "+-----+--------+\n",
      "|  RPC|   label|\n",
      "+-----+--------+\n",
      "|13274| 413.157|\n",
      "|15757|359.6062|\n",
      "|21528|409.0333|\n",
      "|52190|493.8962|\n",
      "|51936|496.7423|\n",
      "+-----+--------+\n",
      "only showing top 5 rows\n",
      "\n"
     ]
    }
   ],
   "source": [
    "df_mat.show(5)"
   ]
  },
  {
   "cell_type": "markdown",
   "metadata": {},
   "source": [
    "## Exercise 4\n",
    "\n",
    "Employ a VectorAssembler in order to convert  df_mat into a new dataframe dfprep that includes a new column `features`, which must be a vector that contains the column \"RCP\".\n",
    "The final dataframe must contain only the columns `features` and `label`\n",
    "  \n",
    "Hint: Have a look to the \"Preparing for ML in Spark\" in the regression notebook"
   ]
  },
  {
   "cell_type": "code",
   "execution_count": 29,
   "metadata": {},
   "outputs": [
    {
     "name": "stdout",
     "output_type": "stream",
     "text": [
      "+---------+--------+\n",
      "| features|   label|\n",
      "+---------+--------+\n",
      "|[13274.0]| 413.157|\n",
      "|[15757.0]|359.6062|\n",
      "|[21528.0]|409.0333|\n",
      "|[52190.0]|493.8962|\n",
      "|[51936.0]|496.7423|\n",
      "+---------+--------+\n",
      "only showing top 5 rows\n",
      "\n"
     ]
    }
   ],
   "source": [
    "from pyspark.ml.linalg import Vectors\n",
    "from pyspark.ml.feature import VectorAssembler\n",
    "\n",
    "# names of column to be included in the vector. Usually all the columns except 'label'\n",
    "vectorcols = [x for x in df_mat.columns if x not in ['label']]\n",
    "\n",
    "# The method will generate a new column features\n",
    "assembler = VectorAssembler(\n",
    "    inputCols=vectorcols,\n",
    "    outputCol='features')\n",
    "\n",
    "# apply the method\n",
    "datawithvector =  assembler.transform(df_mat)\n",
    "\n",
    "# keep only the columns features and label\n",
    "dfprepr = datawithvector.select(['features','label'])\n",
    "\n",
    "# show the first 5 elements\n",
    "dfprepr.show(5)"
   ]
  },
  {
   "cell_type": "markdown",
   "metadata": {},
   "source": [
    "## Exercise 5\n",
    "\n",
    "Now we divide the dataframe `dfprepr` into two dataframes: the train (`train_df`) and the test (`test_df`). The train dataset must contain around the 60% of the data"
   ]
  },
  {
   "cell_type": "code",
   "execution_count": 30,
   "metadata": {},
   "outputs": [
    {
     "name": "stdout",
     "output_type": "stream",
     "text": [
      "+---------+--------+\n",
      "| features|   label|\n",
      "+---------+--------+\n",
      "| [5998.0]|419.6635|\n",
      "| [7462.0]|494.5183|\n",
      "|[11481.0]|403.8332|\n",
      "|[12186.0]| 366.818|\n",
      "|[12812.0]| 380.259|\n",
      "+---------+--------+\n",
      "only showing top 5 rows\n",
      "\n"
     ]
    }
   ],
   "source": [
    "# split into train and test\n",
    "splits = dfprepr.randomSplit([0.6, 0.4])\n",
    "train_df = splits[0]\n",
    "test_df = splits[1]\n",
    "\n",
    "# show the first five elements\n",
    "train_df.show(5)"
   ]
  },
  {
   "cell_type": "markdown",
   "metadata": {},
   "source": [
    "### Exercise 6 \n",
    "- Declare the linear regression method. As hyperparameters use `regParam` with value 0.7, and `elasticNetParam` to obtain Lasso regularization (see [here](https://runawayhorse001.github.io/LearningApacheSpark/reg.html))\n",
    "- Apply the method to the training dataset to obtain the model, that must be called`lrModel`. "
   ]
  },
  {
   "cell_type": "code",
   "execution_count": 31,
   "metadata": {},
   "outputs": [],
   "source": [
    "from pyspark.ml.regression import LinearRegression\n",
    "\n",
    "lr = LinearRegression( regParam=0.7, elasticNetParam=1)\n",
    "\n",
    "# Generate the model\n",
    "lrModel = lr.fit(train_df)\n"
   ]
  },
  {
   "cell_type": "markdown",
   "metadata": {},
   "source": [
    "### Exercise 7\n",
    "\n",
    "Now we would like to measure the errors, in particular r2 and rmse  (only these). In order to obtain these values apply the model to the test and define two `RegressionEvaluator` object, one for each measure "
   ]
  },
  {
   "cell_type": "code",
   "execution_count": 32,
   "metadata": {},
   "outputs": [
    {
     "name": "stdout",
     "output_type": "stream",
     "text": [
      "R^2 -1.5670306055489038\n",
      "rmse 76.74053331587967\n"
     ]
    }
   ],
   "source": [
    "from pyspark.ml.evaluation import RegressionEvaluator\n",
    "\n",
    "lr_predictions = lrModel.transform(test_df)\n",
    "\n",
    "\n",
    "\n",
    "metrics=[\"r2\",\"rmse\"]\n",
    "\n",
    "evaluatorR2 = RegressionEvaluator(predictionCol=\"prediction\", \\\n",
    "                 labelCol=\"label\",metricName=\"r2\")\n",
    "evaluatorRMSE = RegressionEvaluator(predictionCol=\"prediction\", \\\n",
    "                 labelCol=\"label\",metricName=\"rmse\")\n",
    "\n",
    "print(\"R^2\", evaluatorR2.evaluate(lr_predictions))\n",
    "print(\"rmse\", evaluatorRMSE.evaluate(lr_predictions))\n"
   ]
  },
  {
   "cell_type": "markdown",
   "metadata": {},
   "source": [
    "### Exercise 8\n",
    "Compute now the RMSE obtained by a RandomForestRegressor. The idea is the same, only changes the regressor method (that must be declared with hyperparameters `numTrees=100, maxDepth=20`). Try to avoid unnecessary repetitions. \n",
    "The model must be called `rfr_model`"
   ]
  },
  {
   "cell_type": "code",
   "execution_count": 33,
   "metadata": {},
   "outputs": [
    {
     "name": "stdout",
     "output_type": "stream",
     "text": [
      "rmse 40.64379556837958\n"
     ]
    }
   ],
   "source": [
    "from pyspark.ml.regression import RandomForestRegressor\n",
    "rfr = RandomForestRegressor(numTrees=100, maxDepth=20)\n",
    "rfr_model = rfr.fit(train_df)\n",
    "rfr_predictions = rfr_model.transform(test_df)\n",
    "\n",
    "print(\"rmse\", evaluatorRMSE.evaluate(rfr_predictions))"
   ]
  },
  {
   "cell_type": "markdown",
   "metadata": {},
   "source": [
    "### Exercise 9\n",
    "\n",
    "Assume a country with a RPC of 10000;  Which will be the score in math according to our model? Choose the model with smaller RMSE (between linear regression and randomforest). Show a confidence interval of 95% using the predicted value and the RMSE"
   ]
  },
  {
   "cell_type": "code",
   "execution_count": 14,
   "metadata": {},
   "outputs": [
    {
     "name": "stdout",
     "output_type": "stream",
     "text": [
      "[ 343.32326974202323 499.68863071914546 ]\n"
     ]
    }
   ],
   "source": [
    "v = lrModel.predict(Vectors.dense([10000]))\n",
    "rmse =  evaluadorRMSE.evaluate(rfr_predictions)\n",
    "print(\"[\",v-2*rmse,v+2*rmse,\"]\")"
   ]
  },
  {
   "cell_type": "markdown",
   "metadata": {},
   "source": [
    "### Exercise 10\n",
    "\n",
    "The dataset contains a small number of rows.  Thus, the split into train and test might have a big influence in the result. This means that the computed RMSE might not be accurate. Write code for repeating 100 times the experiment with the linear regression from the step of the split into division and test on (included). In each loop iteration add the RMSE obtained to the list `rmses`"
   ]
  },
  {
   "cell_type": "code",
   "execution_count": 34,
   "metadata": {},
   "outputs": [],
   "source": [
    "\n",
    "rmses = []\n",
    "\n",
    "for i in range(100):\n",
    "    lr = LinearRegression( regParam=0.7, elasticNetParam=1)\n",
    "    splits = dfprepr.randomSplit([0.6, 0.4])\n",
    "    train_df = splits[0]\n",
    "    test_df = splits[1]\n",
    "\n",
    "    lrModel = lr.fit(train_df)\n",
    "    lr_predictions = lrModel.transform(test_df)\n",
    "\n",
    "    rmses.append(evaluatorRMSE.evaluate(lr_predictions))"
   ]
  },
  {
   "cell_type": "markdown",
   "metadata": {},
   "source": [
    "Now we show the result"
   ]
  },
  {
   "cell_type": "code",
   "execution_count": 16,
   "metadata": {},
   "outputs": [
    {
     "data": {
      "image/png": "[encoded data removed]",
      "text/plain": [
       "<Figure size 432x288 with 1 Axes>"
      ]
     },
     "metadata": {
      "needs_background": "light"
     },
     "output_type": "display_data"
    }
   ],
   "source": [
    "plt.hist(rmses,bins=30)\n",
    "plt.show()"
   ]
  },
  {
   "cell_type": "markdown",
   "metadata": {},
   "source": [
    "Mean and standard deviation of the RMSE\n"
   ]
  },
  {
   "cell_type": "code",
   "execution_count": 17,
   "metadata": {},
   "outputs": [
    {
     "data": {
      "text/plain": [
       "(48.124980244088086, 9.535143051798904)"
      ]
     },
     "execution_count": 17,
     "metadata": {},
     "output_type": "execute_result"
    }
   ],
   "source": [
    "import numpy as np\n",
    "np.mean(rmses),np.std(rmses)"
   ]
  },
  {
   "cell_type": "markdown",
   "metadata": {},
   "source": [
    "### Extension: showing the error graphically"
   ]
  },
  {
   "cell_type": "code",
   "execution_count": 48,
   "metadata": {},
   "outputs": [
    {
     "name": "stdout",
     "output_type": "stream",
     "text": [
      "Row(features=DenseVector([13162.0]), label=386.1096, prediction=403.8176256666663)\n",
      "[13162.0]\n"
     ]
    },
    {
     "data": {
      "image/png": "[encoded data removed]",
      "text/plain": [
       "<Figure size 1000x400 with 1 Axes>"
      ]
     },
     "metadata": {
      "needs_background": "light"
     },
     "output_type": "display_data"
    }
   ],
   "source": [
    "preds = rfr_predictions.collect()\n",
    "print(preds[0])\n",
    "print(preds[0][0])\n",
    "\n",
    "ylabel = [row[1] for row in preds]\n",
    "ypred = [row[2] for row in preds]\n",
    "x = [row[0][0] for row in preds]\n",
    "\n",
    "import matplotlib.pyplot as plt\n",
    "%matplotlib inline\n",
    "\n",
    "\n",
    "plt.rcParams[\"font.size\"] = 10\n",
    "figure, ax = plt.subplots(1,figsize=(10, 4),dpi=100)    \n",
    "for i in range(len(x)):\n",
    "    plt.plot([x[i],x[i]],[ypred[i],ylabel[i]],color=\"darkorange\")\n",
    "\n",
    "plt.scatter(x,ypred, color='blue', label=\"pred\",s=8)\n",
    "plt.scatter(x,ylabel, color='green', label=\"label\",s=4)\n",
    "\n",
    "\n",
    "plt.xlabel('x')\n",
    "plt.ylabel('y')\n",
    "plt.legend()\n",
    "plt.show()"
   ]
  },
  {
   "cell_type": "markdown",
   "metadata": {},
   "source": [
    "## Appendix: learning curve\n",
    "\n",
    "Question: would we get a smaller error if we had more data?"
   ]
  },
  {
   "cell_type": "code",
   "execution_count": 49,
   "metadata": {},
   "outputs": [
    {
     "name": "stdout",
     "output_type": "stream",
     "text": [
      "0.03 ..................................................................................train  6.28  test  145.01\n",
      "0.05 .................................................................................................train  14.52  test  81.19\n",
      "0.07 ....................................................................................................train  22.3  test  70.79\n",
      "0.1 ....................................................................................................train  24.44  test  66.85\n",
      "0.12 ....................................................................................................train  29.87  test  60.53\n",
      "0.15 ....................................................................................................train  31.41  test  58.91\n",
      "0.17 ....................................................................................................train  34.18  test  56.27\n",
      "0.2 ....................................................................................................train  32.99  test  53.23\n",
      "0.23 ....................................................................................................train  34.93  test  53.8\n",
      "0.25 ....................................................................................................train  36.77  test  52.04\n",
      "0.28 ....................................................................................................train  37.17  test  52.45\n",
      "0.3 ....................................................................................................train  38.32  test  51.72\n",
      "0.33 ....................................................................................................train  38.43  test  50.67\n",
      "0.35 ....................................................................................................train  37.33  test  51.72\n",
      "0.38 ....................................................................................................train  38.97  test  50.79\n",
      "0.4 ....................................................................................................train  39.83  test  50.69\n",
      "0.42 ....................................................................................................train  38.95  test  51.56\n",
      "0.45 ....................................................................................................train  39.46  test  50.91\n",
      "0.47 ....................................................................................................train  40.83  test  49.07\n",
      "0.5 ....................................................................................................train  40.81  test  48.15\n",
      "0.53 ....................................................................................................train  41.13  test  48.82\n",
      "0.55 ....................................................................................................train  41.19  test  48.86\n",
      "0.57 ....................................................................................................train  41.47  test  47.49\n",
      "0.6 ....................................................................................................train  42.44  test  46.77\n",
      "0.62 ....................................................................................................train  41.98  test  47.62\n",
      "0.65 ....................................................................................................train  41.83  test  47.52\n",
      "0.68 ....................................................................................................train  42.56  test  46.93\n",
      "0.7 ....................................................................................................train  42.28  test  47.0\n",
      "0.72 ....................................................................................................train  42.2  test  47.88\n",
      "0.75 ....................................................................................................train  42.51  test  46.91\n",
      "0.78 ....................................................................................................train  41.62  test  49.11\n",
      "0.8 ....................................................................................................train  42.62  test  46.47\n",
      "0.82 ....................................................................................................train  42.59  test  46.88\n",
      "0.85 ....................................................................................................train  42.96  test  44.74\n",
      "0.88 ....................................................................................................train  43.1  test  44.72\n",
      "0.9 ....................................................................................................train  42.98  test  43.79\n",
      "0.93 ...................................................................................................train  42.65  test  46.8\n",
      "0.95 .............................................................................................train  43.37  test  37.86\n",
      "0.97 .................................................................................train  43.15  test  42.22\n"
     ]
    }
   ],
   "source": [
    "from pyspark.ml.linalg import Vectors\n",
    "from pyspark.ml.feature import VectorAssembler\n",
    "from pyspark.ml.regression import LinearRegression\n",
    "from pyspark.ml.evaluation import RegressionEvaluator\n",
    "from pyspark.ml.regression import RandomForestRegressor\n",
    "\n",
    "import numpy as np\n",
    "\n",
    "\n",
    "\n",
    "x = []\n",
    "y_train = []\n",
    "y_test = []\n",
    "n = 40\n",
    "# repeat the experiment\n",
    "for ratio in [i/n for i in range(1,n)]: \n",
    "    print(round(ratio,2),end=\" \")\n",
    "    \n",
    "    \n",
    "    \n",
    "    ytr = []\n",
    "    yte = []\n",
    "    reps = 100\n",
    "    for i in range(reps):\n",
    "        \n",
    "        splits = dfprepr.randomSplit([ratio, 1-ratio]) \n",
    "        train_df = splits[0]\n",
    "        test_df = splits[1]\n",
    "        if train_df.count()>0 and test_df.count()>0:\n",
    "            print(\".\",end=\"\")\n",
    "            lr = LinearRegression()\n",
    "            # Model\n",
    "            lrModel = lr.fit(train_df)\n",
    "\n",
    "            # train error\n",
    "            trainingSummary = lrModel.summary\n",
    "            ytr.append(trainingSummary.rootMeanSquaredError)\n",
    "\n",
    "            # test error\n",
    "            lr_predictions = lrModel.transform(test_df)\n",
    "            errors = evaluatorRMSE.evaluate(lr_predictions)\n",
    "            yte.append(errors)   \n",
    "    if len(yte)>0 and len(ytr)>0:\n",
    "        y_test.append(np.mean(yte))\n",
    "        y_train.append(np.mean(ytr))\n",
    "        x.append(ratio)\n",
    "        print(\"train \",round(y_train[-1],2),\" test \",round(y_test[-1],2))\n",
    "\n",
    "\n"
   ]
  },
  {
   "cell_type": "code",
   "execution_count": 50,
   "metadata": {},
   "outputs": [
    {
     "data": {
      "image/png": "[encoded data removed]",
      "text/plain": [
       "<Figure size 432x288 with 1 Axes>"
      ]
     },
     "metadata": {
      "needs_background": "light"
     },
     "output_type": "display_data"
    }
   ],
   "source": [
    "%matplotlib inline\n",
    "\n",
    "import matplotlib.pyplot as plt\n",
    "\n",
    "plt.plot(x,y_train,label=\"y_train\")\n",
    "plt.plot(x,y_test,label=\"y_test\")\n",
    "plt.legend()\n",
    "plt.show()"
   ]
  },
  {
   "cell_type": "markdown",
   "metadata": {},
   "source": [
    "Consequence: \n",
    "\n",
    "- the test error will be around 40 (points of score in math) even in the case of more data. \n",
    "- Moreover, each prediction will have a confidence interval of 95%  around [p-1.96 RMSE ,p+1.96RMSE], that is around [p-80,p+80]"
   ]
  },
  {
   "cell_type": "code",
   "execution_count": null,
   "metadata": {},
   "outputs": [],
   "source": []
  }
 ],
 "metadata": {
  "kernelspec": {
   "display_name": "Python 3",
   "language": "python",
   "name": "python3"
  },
  "language_info": {
   "codemirror_mode": {
    "name": "ipython",
    "version": 3
   },
   "file_extension": ".py",
   "mimetype": "text/x-python",
   "name": "python",
   "nbconvert_exporter": "python",
   "pygments_lexer": "ipython3",
   "version": "3.8.5"
  }
 },
 "nbformat": 4,
 "nbformat_minor": 4
}
