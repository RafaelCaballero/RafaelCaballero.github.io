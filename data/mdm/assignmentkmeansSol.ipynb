{
 "cells": [
  {
   "cell_type": "markdown",
   "metadata": {},
   "source": [
    "# Unsupervised Learning - Solution\n",
    "\n",
    "### MDM - Rafael Caballero\n",
    "\n",
    "Some people have been using wearable sensors for some period of time. We have information about each person (age,education), information obtained from the sensors and a label that represents what the person is doing (walking, sat down, running....). The sensor information (column names started by p) is discrete and ordinal (values 0,1,2,3...where 1 represents some value bigger than the value represented by 0 and so on). The label can take the values 0,1,2,3,4 and 5\n",
    "\n",
    "### Setup"
   ]
  },
  {
   "cell_type": "code",
   "execution_count": 1,
   "metadata": {},
   "outputs": [
    {
     "name": "stdout",
     "output_type": "stream",
     "text": [
      "Checking required modules\n",
      "findspark  found\n",
      "pyspark  found\n",
      "+-----+\n",
      "|   hi|\n",
      "+-----+\n",
      "|spark|\n",
      "+-----+\n",
      "\n"
     ]
    }
   ],
   "source": [
    "\n",
    "import os.path\n",
    "from subprocess import check_call\n",
    "import importlib\n",
    "import os\n",
    "import sys\n",
    "import findspark\n",
    "import pyspark # only run after findspark.init()\n",
    "from pyspark.sql import SparkSession\n",
    "\n",
    "modules = [\"findspark\",\"pyspark\"]\n",
    "\n",
    "def check_modules(modules, upgrade=False):\n",
    "    print(\"Checking required modules\")\n",
    "    for m in modules:\n",
    "        torch_loader = importlib.util.find_spec(m)\n",
    "        if torch_loader is not None and not upgrade:\n",
    "            print(m,\" found\")\n",
    "        else:\n",
    "            if upgrade:\n",
    "                print(\"upgrading \",m)\n",
    "            else:\n",
    "                print(m,\" not found, installing\")\n",
    "            if 'google.colab' in sys.modules:\n",
    "                if upgrade:\n",
    "                    check_call([\"pip\", \"install\", \"--upgrade\", m])\n",
    "                else:\n",
    "                    check_call([\"pip\", \"install\", \"-q\", m])\n",
    "            else:\n",
    "                if upgrade:\n",
    "                    check_call([sys.executable, \"-m\", \"pip\", \"install\", \"--user\", \"--upgrade\", m])\n",
    "                else:\n",
    "                    check_call([sys.executable, \"-m\", \"pip\", \"install\", \"--user\", m])\n",
    "\n",
    "\n",
    "        \n",
    "check_modules(modules,upgrade=False)\n",
    "\n",
    "findspark.init()\n",
    "spark = SparkSession.builder.getOrCreate() # SparkSession.builder.getOrCreate()\n",
    "sc = spark.sparkContext\n",
    "df = spark.sql('''select 'spark' as hi ''')\n",
    "df.show()"
   ]
  },
  {
   "cell_type": "markdown",
   "metadata": {},
   "source": [
    "Some auxiliary functions"
   ]
  },
  {
   "cell_type": "code",
   "execution_count": 8,
   "metadata": {},
   "outputs": [],
   "source": [
    "from pyspark.ml.evaluation import MulticlassClassificationEvaluator\n",
    "from pyspark.mllib.evaluation import MulticlassMetrics\n",
    "import numpy as np\n",
    "\n",
    "\n",
    "import matplotlib.pyplot as plt\n",
    "%matplotlib inline\n",
    "from pyspark_dist_explore import hist\n",
    "import pyspark.sql.functions as func \n",
    "\n",
    "\n",
    "def load_file(file):\n",
    "    df = spark.read.format(\"com.databricks.spark.csv\")\\\n",
    "            .options(header='true', inferschema='true') \\\n",
    "            .load(file)\n",
    "    return df\n",
    "\n",
    "\n",
    "def evaluate_predictions(predictions,verb=True):\n",
    "    \n",
    "    preds_and_labels = predictions.select(['prediction','label'])\n",
    "    pl = preds_and_labels.rdd.map(tuple)\n",
    "    metrics = MulticlassMetrics(pl)\n",
    "    cm = metrics.confusionMatrix()\n",
    "\n",
    "    # \n",
    "    class_temp = predictions.select(\"label\").groupBy(\"label\")\\\n",
    "                            .count().sort('count', ascending=False).toPandas()\n",
    "    class_names = class_temp[\"label\"].values.tolist()\n",
    "    \n",
    "    \n",
    "    #print(class_names)\n",
    "    cm = cm.toArray()\n",
    "    if verb:\n",
    "        print(cm)\n",
    "    # add by rows to compute the recall\n",
    "    sumaf = []\n",
    "    if verb:\n",
    "        print(\"Recall \")\n",
    "    for i in range(len(class_names)):\n",
    "        suma = sum(cm[i])\n",
    "        if verb:\n",
    "            print(i,':',round(cm[i][i]/suma,2))\n",
    "        sumaf.append(suma)\n",
    "              \n",
    "    # add by columns to compute the precision\n",
    "    sumac = []\n",
    "    sumad = []\n",
    "    if verb:\n",
    "        print(\"Precision \")\n",
    "    for i in range(len(class_names)):\n",
    "        suma = 0\n",
    "        for j in range(len(class_names)):\n",
    "              suma += cm[j][i]\n",
    "        sumac.append(suma)\n",
    "        if verb:\n",
    "            print(i,':',round(cm[i][i]/suma,2))\n",
    "        sumad.append(cm[i][i])\n",
    "    oa = np.sum(sumad)/sum(sumac)\n",
    "    ac = 0\n",
    "    for i in range(len(sumac)):\n",
    "        ac += sumac[i]*sumaf[i]\n",
    "    ac /= (sum(sumac)*sum(sumac))\n",
    "    #print(oa,ac)\n",
    "    kappa = (oa-ac)/(1-ac)\n",
    "    if verb:\n",
    "        print(\"***Global Statistics***\")        \n",
    "        print(\"kappa \",round(kappa,3))\n",
    "        acc = pl.filter(lambda x: x[0] == x[1]).count() / float(pl.count())\n",
    "        print(\"Model accuracy: %.3f%%\" % (acc * 100))\n",
    "    return cm,kappa\n"
   ]
  },
  {
   "cell_type": "markdown",
   "metadata": {},
   "source": [
    "Load the data file"
   ]
  },
  {
   "cell_type": "code",
   "execution_count": 9,
   "metadata": {},
   "outputs": [
    {
     "name": "stdout",
     "output_type": "stream",
     "text": [
      "730 rows\n",
      "root\n",
      " |-- sex: integer (nullable = true)\n",
      " |-- age: integer (nullable = true)\n",
      " |-- hab: integer (nullable = true)\n",
      " |-- prov: integer (nullable = true)\n",
      " |-- ccaa: integer (nullable = true)\n",
      " |-- edu: integer (nullable = true)\n",
      " |-- cs: integer (nullable = true)\n",
      " |-- p1_1: integer (nullable = true)\n",
      " |-- p1_2: integer (nullable = true)\n",
      " |-- p1_3: integer (nullable = true)\n",
      " |-- p1_4: integer (nullable = true)\n",
      " |-- p1_5: integer (nullable = true)\n",
      " |-- p1_6: integer (nullable = true)\n",
      " |-- p1_7: integer (nullable = true)\n",
      " |-- p1_8: integer (nullable = true)\n",
      " |-- p1_9: integer (nullable = true)\n",
      " |-- p1_10: integer (nullable = true)\n",
      " |-- p2_1: integer (nullable = true)\n",
      " |-- p2_2: integer (nullable = true)\n",
      " |-- p2_3: integer (nullable = true)\n",
      " |-- p3_1: integer (nullable = true)\n",
      " |-- p3_2: integer (nullable = true)\n",
      " |-- p3_3: integer (nullable = true)\n",
      " |-- p3_4: integer (nullable = true)\n",
      " |-- p3_5: integer (nullable = true)\n",
      " |-- p3_6: integer (nullable = true)\n",
      " |-- p4_1: integer (nullable = true)\n",
      " |-- p4_2: integer (nullable = true)\n",
      " |-- p4_3: integer (nullable = true)\n",
      " |-- p4_4: integer (nullable = true)\n",
      " |-- p4_5: integer (nullable = true)\n",
      " |-- p4_6: integer (nullable = true)\n",
      " |-- p4_7: integer (nullable = true)\n",
      " |-- p4_8: integer (nullable = true)\n",
      " |-- p4_9: integer (nullable = true)\n",
      " |-- p5_1: integer (nullable = true)\n",
      " |-- p5_2: integer (nullable = true)\n",
      " |-- p5_3: integer (nullable = true)\n",
      " |-- p5_4: integer (nullable = true)\n",
      " |-- p5_5: integer (nullable = true)\n",
      " |-- p5_6: integer (nullable = true)\n",
      " |-- p5_7: integer (nullable = true)\n",
      " |-- p5_8: integer (nullable = true)\n",
      " |-- p5_9: integer (nullable = true)\n",
      " |-- p5_10: integer (nullable = true)\n",
      " |-- p5_11: integer (nullable = true)\n",
      " |-- p5_12: integer (nullable = true)\n",
      " |-- p6: integer (nullable = true)\n",
      " |-- label: integer (nullable = true)\n",
      "\n"
     ]
    }
   ],
   "source": [
    "url = \"https://raw.githubusercontent.com/RafaelCaballero/tdm/master/datos/datav.csv\"\n",
    "file = \"./datav.csv\"\n",
    "\n",
    "import urllib.request\n",
    "\n",
    "f = urllib.request.urlretrieve(url,file ) # in case of error download manually and comment this line\n",
    "# lo cargamos como un dataframe\n",
    "df = load_file(file)\n",
    "print(f\"{df.count()} rows\")\n",
    "df.printSchema()"
   ]
  },
  {
   "cell_type": "markdown",
   "metadata": {},
   "source": [
    "#### Exercise 1 (2 points). \n",
    "\n",
    "First we are going to use unsupervised learning and group the data into 5 groups. The idea is to check if the groups have some relation with the label, that is if the features correspond geometrically to the label.\n",
    "\n",
    "In particular we are going to use k-means with k=5"
   ]
  },
  {
   "cell_type": "code",
   "execution_count": 10,
   "metadata": {},
   "outputs": [],
   "source": [
    "from pyspark.ml.clustering import KMeans\n",
    "k = 5 # number of clusters (groups)\n",
    "method = KMeans().setK(k).setSeed(1) # don't change this!!"
   ]
  },
  {
   "cell_type": "markdown",
   "metadata": {},
   "source": [
    "The variable `method` will be the second step of a pipeline. The first step will be the usual `VectorAssembler` that combines in a single column `features` al the columns except `label`.\n",
    "\n",
    "Write the pipeline and apply it to dataframe `df`, storing the result in a variable `predictions`\n",
    "\n",
    "*Important*: in unsupervised learning there is no need of dividing the data between train and test: both the *fit* and the *transform* are applied to the whole dataframe"
   ]
  },
  {
   "cell_type": "code",
   "execution_count": 21,
   "metadata": {},
   "outputs": [],
   "source": [
    "\n",
    "from pyspark.ml.feature import VectorAssembler\n",
    "from pyspark.ml import Pipeline\n",
    "\n",
    "### solution\n",
    "vectorcols = [x for x in df.columns if x not in ['label']]\n",
    "\n",
    "# \n",
    "assembler = VectorAssembler(\n",
    "    inputCols=vectorcols,\n",
    "    outputCol='features')\n",
    "\n",
    "\n",
    "\n",
    "pipeline = Pipeline(stages=[assembler,method])\n",
    "\n",
    "# Make predictions\n",
    "predictions = pipeline.fit(df).transform(df)\n",
    "\n",
    "#scaler = MinMaxScaler(inputCol=\"featuresi\",outputCol=\"features\")"
   ]
  },
  {
   "cell_type": "markdown",
   "metadata": {},
   "source": [
    "The column `prediction` represent the cluster number assigned by kmeans and is a number from 0 to 4; the rows with the smae number have been assigned to the same cluster. These values are not related to the label, that has not been used so far:"
   ]
  },
  {
   "cell_type": "code",
   "execution_count": 22,
   "metadata": {},
   "outputs": [
    {
     "name": "stdout",
     "output_type": "stream",
     "text": [
      "+-----+----------+\n",
      "|label|prediction|\n",
      "+-----+----------+\n",
      "|    3|         1|\n",
      "|    0|         0|\n",
      "|    2|         3|\n",
      "|    0|         0|\n",
      "|    1|         4|\n",
      "|    1|         3|\n",
      "|    2|         3|\n",
      "|    3|         3|\n",
      "|    0|         4|\n",
      "|    1|         3|\n",
      "|    0|         4|\n",
      "|    4|         3|\n",
      "|    4|         4|\n",
      "|    3|         4|\n",
      "|    1|         1|\n",
      "|    4|         1|\n",
      "|    0|         3|\n",
      "|    1|         4|\n",
      "|    4|         2|\n",
      "|    3|         3|\n",
      "+-----+----------+\n",
      "only showing top 20 rows\n",
      "\n"
     ]
    }
   ],
   "source": [
    "predictions.select(\"label\",\"prediction\").show()"
   ]
  },
  {
   "cell_type": "markdown",
   "metadata": {},
   "source": [
    "#### Exercise 2 (2 points). \n",
    "\n",
    "For each cluster value (column `prediction`) we would like to know how the values of the label are distributed. \n",
    "\n",
    "Complete the function `show_clusters` such that  for each value c between 0 and k (not included) of `prediction`:\n",
    "\n",
    "a) Obtains a dataframe df_c containing only those rows of `df` with  `prediction` equal to `c` (use filter [filter](https://sparkbyexamples.com/pyspark/pyspark-where-filter/))\n",
    "\n",
    "b) Call to the histogram function to show the histogram of column `label` in `df_c`."
   ]
  },
  {
   "cell_type": "code",
   "execution_count": 24,
   "metadata": {},
   "outputs": [
    {
     "name": "stdout",
     "output_type": "stream",
     "text": [
      "Cluster 0\n"
     ]
    },
    {
     "data": {
      "image/png": "[encoded data removed]",
      "text/plain": [
       "<Figure size 432x288 with 1 Axes>"
      ]
     },
     "metadata": {
      "needs_background": "light"
     },
     "output_type": "display_data"
    },
    {
     "name": "stdout",
     "output_type": "stream",
     "text": [
      "Cluster 1\n"
     ]
    },
    {
     "data": {
      "image/png": "[encoded data removed]",
      "text/plain": [
       "<Figure size 432x288 with 1 Axes>"
      ]
     },
     "metadata": {
      "needs_background": "light"
     },
     "output_type": "display_data"
    },
    {
     "name": "stdout",
     "output_type": "stream",
     "text": [
      "Cluster 2\n"
     ]
    },
    {
     "data": {
      "image/png": "[encoded data removed]",
      "text/plain": [
       "<Figure size 432x288 with 1 Axes>"
      ]
     },
     "metadata": {
      "needs_background": "light"
     },
     "output_type": "display_data"
    },
    {
     "name": "stdout",
     "output_type": "stream",
     "text": [
      "Cluster 3\n"
     ]
    },
    {
     "data": {
      "image/png": "[encoded data removed]",
      "text/plain": [
       "<Figure size 432x288 with 1 Axes>"
      ]
     },
     "metadata": {
      "needs_background": "light"
     },
     "output_type": "display_data"
    },
    {
     "name": "stdout",
     "output_type": "stream",
     "text": [
      "Cluster 4\n"
     ]
    },
    {
     "data": {
      "image/png": "[encoded data removed]",
      "text/plain": [
       "<Figure size 432x288 with 1 Axes>"
      ]
     },
     "metadata": {
      "needs_background": "light"
     },
     "output_type": "display_data"
    }
   ],
   "source": [
    "def histogram(df,col,bins=20,color=\"blue\"):\n",
    "    fig,ax = plt.subplots()\n",
    "    hist(ax, df.select([col]), bins = bins, color=[color])\n",
    "    plt.xticks(range(5), range(5))\n",
    "    plt.show()\n",
    "    \n",
    "def show_clusters(predictions,k):  \n",
    "    # solution\n",
    "    for c in range(0,k):\n",
    "        # elements in cluster p\n",
    "        print(f\"Cluster {c}\")\n",
    "        df_c = predictions.filter(predictions.prediction==c)\n",
    "        histogram(df_c,\"label\")\n",
    "        \n",
    "# test\n",
    "show_clusters(predictions,k)"
   ]
  },
  {
   "cell_type": "markdown",
   "metadata": {},
   "source": [
    "#### Exercise 3 (2 points).  \n",
    "\n",
    "The results are very disappointing:  the cluster do not seem to be related to the label. Are we doing anything wrong?\n",
    "\n",
    "Thinking about the problem we remember that scaling the data can be important in geometrical methods. We decide to use the MinMaxScaler, a scaler that converts all the values to the range [0,1]. This will be a new step in the pipeline, that scales all the values except the `label`. As usual the result will be called  `predictions`."
   ]
  },
  {
   "cell_type": "code",
   "execution_count": 25,
   "metadata": {},
   "outputs": [
    {
     "name": "stdout",
     "output_type": "stream",
     "text": [
      "Cluster 0\n"
     ]
    },
    {
     "data": {
      "image/png": "[encoded data removed]",
      "text/plain": [
       "<Figure size 432x288 with 1 Axes>"
      ]
     },
     "metadata": {
      "needs_background": "light"
     },
     "output_type": "display_data"
    },
    {
     "name": "stdout",
     "output_type": "stream",
     "text": [
      "Cluster 1\n"
     ]
    },
    {
     "data": {
      "image/png": "[encoded data removed]",
      "text/plain": [
       "<Figure size 432x288 with 1 Axes>"
      ]
     },
     "metadata": {
      "needs_background": "light"
     },
     "output_type": "display_data"
    },
    {
     "name": "stdout",
     "output_type": "stream",
     "text": [
      "Cluster 2\n"
     ]
    },
    {
     "data": {
      "image/png": "[encoded data removed]",
      "text/plain": [
       "<Figure size 432x288 with 1 Axes>"
      ]
     },
     "metadata": {
      "needs_background": "light"
     },
     "output_type": "display_data"
    },
    {
     "name": "stdout",
     "output_type": "stream",
     "text": [
      "Cluster 3\n"
     ]
    },
    {
     "data": {
      "image/png": "[encoded data removed]",
      "text/plain": [
       "<Figure size 432x288 with 1 Axes>"
      ]
     },
     "metadata": {
      "needs_background": "light"
     },
     "output_type": "display_data"
    },
    {
     "name": "stdout",
     "output_type": "stream",
     "text": [
      "Cluster 4\n"
     ]
    },
    {
     "data": {
      "image/png": "[encoded data removed]",
      "text/plain": [
       "<Figure size 432x288 with 1 Axes>"
      ]
     },
     "metadata": {
      "needs_background": "light"
     },
     "output_type": "display_data"
    }
   ],
   "source": [
    "from pyspark.ml.feature import MinMaxScaler\n",
    "\n",
    "# solution\n",
    "assembler = VectorAssembler(\n",
    "    inputCols=vectorcols,\n",
    "    outputCol='featuresi')\n",
    "\n",
    "method = KMeans().setK(k).setSeed(1)\n",
    "scaler = MinMaxScaler(inputCol=\"featuresi\",outputCol=\"features\")\n",
    "pipeline = Pipeline(stages=[assembler,scaler,method])\n",
    "\n",
    "# Make predictions\n",
    "predictions = pipeline.fit(df).transform(df)\n",
    "\n",
    "\n",
    "### test\n",
    "show_clusters(predictions,k)"
   ]
  },
  {
   "cell_type": "markdown",
   "metadata": {},
   "source": [
    "#### Exercise 4 (2 points).    \n",
    "\n",
    "This is much better. Now it seems that some label values are related to some clusters. \n",
    "\n",
    "Now we get new information: some sensors represent categorical data (for instance the orientationnorth, south, east and west) and therefore we should not apply the scaler. Instead we will apply a `OneHotEncoder`.\n",
    "\n",
    "In the next code, variable `cols_codify` contains the name of these categorical columns, while `cols_codify_newnames` are the new names obtained after applying the `OneHotEncoder`. Additionally, the variable `vectorcols` contains the list of column names that now the VectorAssembler must use. This list is the list of features but replacing the names of the categorical data by the new names.\n",
    "\n",
    "Design and apply the new  pipeline with all the elements. The scaler is still a part of the pipeline, sincbe it will be applied to the rest of the variable and have no influence on the variable encoded by  OneHotEncoder."
   ]
  },
  {
   "cell_type": "code",
   "execution_count": 26,
   "metadata": {},
   "outputs": [
    {
     "name": "stdout",
     "output_type": "stream",
     "text": [
      "Cluster 0\n"
     ]
    },
    {
     "data": {
      "image/png": "[encoded data removed]",
      "text/plain": [
       "<Figure size 432x288 with 1 Axes>"
      ]
     },
     "metadata": {
      "needs_background": "light"
     },
     "output_type": "display_data"
    },
    {
     "name": "stdout",
     "output_type": "stream",
     "text": [
      "Cluster 1\n"
     ]
    },
    {
     "data": {
      "image/png": "[encoded data removed]",
      "text/plain": [
       "<Figure size 432x288 with 1 Axes>"
      ]
     },
     "metadata": {
      "needs_background": "light"
     },
     "output_type": "display_data"
    },
    {
     "name": "stdout",
     "output_type": "stream",
     "text": [
      "Cluster 2\n"
     ]
    },
    {
     "data": {
      "image/png": "[encoded data removed]",
      "text/plain": [
       "<Figure size 432x288 with 1 Axes>"
      ]
     },
     "metadata": {
      "needs_background": "light"
     },
     "output_type": "display_data"
    },
    {
     "name": "stdout",
     "output_type": "stream",
     "text": [
      "Cluster 3\n"
     ]
    },
    {
     "data": {
      "image/png": "[encoded data removed]",
      "text/plain": [
       "<Figure size 432x288 with 1 Axes>"
      ]
     },
     "metadata": {
      "needs_background": "light"
     },
     "output_type": "display_data"
    },
    {
     "name": "stdout",
     "output_type": "stream",
     "text": [
      "Cluster 4\n"
     ]
    },
    {
     "data": {
      "image/png": "[encoded data removed]",
      "text/plain": [
       "<Figure size 432x288 with 1 Axes>"
      ]
     },
     "metadata": {
      "needs_background": "light"
     },
     "output_type": "display_data"
    }
   ],
   "source": [
    "from pyspark.ml.feature import OneHotEncoder\n",
    "\n",
    "cols_codify = [\"p5_1\",\"p5_2\",\"p5_3\",\"p5_4\",\"p5_5\",\"p5_6\",\"p5_7\",\"p5_8\",\"p5_9\",\"p5_10\",\"p5_11\",\"p5_12\",\"prov\",\"ccaa\"]\n",
    "cols_codify_newnames = [x+\"_t\" for x in cols_codify]\n",
    "\n",
    "vectorcols = [x if x not in cols_codify else x+\"_t\" for x in df.columns if x not in ['label']]\n",
    "\n",
    "#### Solution\n",
    "encoder = OneHotEncoder(inputCols=cols_codify,\n",
    "                        outputCols=cols_codify_newnames)\n",
    "# vector\n",
    "assembler = VectorAssembler(\n",
    "    inputCols=vectorcols,\n",
    "    outputCol='featuresi')\n",
    "\n",
    "# scaler\n",
    "scaler = MinMaxScaler(inputCol=\"featuresi\",outputCol=\"features\")\n",
    "\n",
    "method = KMeans().setK(k).setSeed(1)\n",
    "pipeline = Pipeline(stages=[encoder,assembler,scaler,method])\n",
    "\n",
    "# Make predictions\n",
    "predictions = pipeline.fit(df).transform(df)\n",
    "\n",
    "show_clusters(predictions,k)"
   ]
  },
  {
   "cell_type": "markdown",
   "metadata": {},
   "source": [
    "#### Exercise 5 (2 points). \n",
    "\n",
    "Now we can see that finally the cluster represent (approx.) the values of the label. Then, could we deduce the lavel from the sensor and the ersonal data? Emply a RandomForest classifier for predicting the label from the rest of the columns. Once more the result will be called `predictions`\n",
    "\n",
    "Important: We are back in supervised learning, and thus it is important to use a traing and a test set"
   ]
  },
  {
   "cell_type": "code",
   "execution_count": 27,
   "metadata": {},
   "outputs": [
    {
     "name": "stderr",
     "output_type": "stream",
     "text": [
      "C:\\Users\\Rafa\\AppData\\Roaming\\Python\\Python38\\site-packages\\pyspark\\sql\\context.py:125: FutureWarning: Deprecated in 3.0.0. Use SparkSession.builder.getOrCreate() instead.\n",
      "  warnings.warn(\n"
     ]
    },
    {
     "name": "stdout",
     "output_type": "stream",
     "text": [
      "[[23. 13.  6.  0.  7.]\n",
      " [ 7. 36.  2.  2.  7.]\n",
      " [14.  2. 29.  5.  0.]\n",
      " [ 9.  0.  7. 33.  0.]\n",
      " [11.  4.  2.  0. 38.]]\n",
      "Kappa 0.5232001211593436\n"
     ]
    }
   ],
   "source": [
    "from pyspark.ml.classification import RandomForestClassifier\n",
    "\n",
    "# this is needed because raendomforest assumes that label is a double\n",
    "from pyspark.sql.functions import col\n",
    "df = df.withColumn(\"label\",df.label.cast('double'))\n",
    "\n",
    "# train  & test proportion\n",
    "ratio_train=0.65\n",
    "\n",
    "\n",
    "#####solution\n",
    "splits = df.randomSplit([ratio_train, 1-ratio_train],1234)\n",
    "train_df = splits[0]\n",
    "test_df = splits[1]\n",
    "\n",
    "method = RandomForestClassifier()\n",
    "pipeline = Pipeline(stages=[encoder,assembler,scaler,method])\n",
    "\n",
    "model = pipeline.fit(train_df)\n",
    "predictions = model.transform(test_df)\n",
    "\n",
    "\n",
    "###### Test\n",
    "cm,kappa = evaluate_predictions(predictions,verb=False)\n",
    "print(cm)\n",
    "print(f\"Kappa {kappa}\")"
   ]
  },
  {
   "cell_type": "code",
   "execution_count": null,
   "metadata": {},
   "outputs": [],
   "source": []
  }
 ],
 "metadata": {
  "kernelspec": {
   "display_name": "Python 3",
   "language": "python",
   "name": "python3"
  },
  "language_info": {
   "codemirror_mode": {
    "name": "ipython",
    "version": 3
   },
   "file_extension": ".py",
   "mimetype": "text/x-python",
   "name": "python",
   "nbconvert_exporter": "python",
   "pygments_lexer": "ipython3",
   "version": "3.8.5"
  }
 },
 "nbformat": 4,
 "nbformat_minor": 4
}
