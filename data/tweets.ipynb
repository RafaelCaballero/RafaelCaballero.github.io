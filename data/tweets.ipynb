{
 "cells": [
  {
   "cell_type": "markdown",
   "id": "98919e1d",
   "metadata": {},
   "source": [
    "# Tratamiento de datos \n",
    "\n",
    "<table>\n",
    "    <tr>\n",
    "      <td>Grado en Ingeniería de Datos e Inteligencia Artificial - Facultad de Informática - UCM\n",
    "      </td>\n",
    "      <td>\n",
    "      <img src=\"https://biblioteca.ucm.es/data/cont/media/www/pag-88746//escudo.jpg\"  width=50/>\n",
    "      </td>\n",
    "     </tr>\n",
    "</table>\n",
    "\n",
    "## Carga de datos "
   ]
  },
  {
   "cell_type": "markdown",
   "id": "f8edabfd",
   "metadata": {},
   "source": [
    "Comenzando descargando datos que hemos recopilados de Twitter. Los datos quedan en una variable de nombres `tweets`"
   ]
  },
  {
   "cell_type": "code",
   "execution_count": null,
   "id": "370da423",
   "metadata": {},
   "outputs": [],
   "source": [
    "import pandas as pd\n",
    "import seaborn as sns\n",
    "\n",
    "tweets = pd.read_csv(\"https://github.com/RafaelCaballero/tdm/raw/master/datos/tweets.zip\")\n",
    "tweets"
   ]
  },
  {
   "cell_type": "markdown",
   "id": "7f731bee",
   "metadata": {},
   "source": [
    "Cada fila es un tweet, incluyendo\n",
    "\n",
    "- screen_name: el nombre en Twitter del usuario\n",
    "- text: el texto del tweet\n",
    "- localidad, provincia: localidad y provincia desde la que se emitió el tweet, obtenido a partir de las coordenadas que acompañan al tweet.\n",
    "- hora: hora a la que se emitió el tweet\n",
    "- verified: 1 si es un usuario verificado y 0 si no lo es \n",
    "- followers: seguidores del usuario\n",
    "- tweets: número de tweets queu ha emitido el usuario\n",
    "- futuro: número de verbos en tiempo futuro que incluye el tweet en `text`\n",
    "- pasado: número de verbos en tiempo pasado  que incluye el tweet en `text`\n",
    "- presente: número de verbos en tiempo presente  que incluye el tweet en `text`\n",
    "- Renta: Renta per capita de la zona desde la que se emitió el tweet (asumimos que la renta del usuario está relacionada)\n",
    "- sentimiento: un valor entre -1 y +1, donde -1 es un tweet negativo y +1 un tweet con mensaje positivo (valor obtenido mediante un programa de forma automática a partir de `text`"
   ]
  },
  {
   "cell_type": "markdown",
   "id": "5bf4a9cc",
   "metadata": {},
   "source": [
    "## Contando valores"
   ]
  },
  {
   "cell_type": "markdown",
   "id": "a1fb06aa",
   "metadata": {},
   "source": [
    "Podemos preguntarnos por ejemplo cuantos tweets de usuarios verificados hay y cuantos de usuarios no verificados"
   ]
  },
  {
   "cell_type": "code",
   "execution_count": null,
   "id": "6a425499",
   "metadata": {},
   "outputs": [],
   "source": [
    "tweets.verified.value_counts()"
   ]
  },
  {
   "cell_type": "markdown",
   "id": "df2a2ce6",
   "metadata": {},
   "source": [
    "O cuantos tweets de cada provincia"
   ]
  },
  {
   "cell_type": "code",
   "execution_count": null,
   "id": "4e07259f",
   "metadata": {},
   "outputs": [],
   "source": [
    "tweets.provincia.value_counts()"
   ]
  },
  {
   "cell_type": "markdown",
   "id": "203ba744",
   "metadata": {},
   "source": [
    "Escribe código para saber cúantos tweets se han emitido a cada `hora`"
   ]
  },
  {
   "cell_type": "code",
   "execution_count": null,
   "id": "8cc0d8d8",
   "metadata": {},
   "outputs": [],
   "source": []
  },
  {
   "cell_type": "markdown",
   "id": "62a8054f",
   "metadata": {},
   "source": [
    "Lo mismo para el número de tweets por `screen_name` por tweets."
   ]
  },
  {
   "cell_type": "code",
   "execution_count": null,
   "id": "a7da03da",
   "metadata": {},
   "outputs": [],
   "source": []
  },
  {
   "cell_type": "markdown",
   "id": "d35a80cd",
   "metadata": {},
   "source": [
    "Tambien podemos verlo de forma gráfica con los diagramas de barras:"
   ]
  },
  {
   "cell_type": "code",
   "execution_count": null,
   "id": "343044cc",
   "metadata": {},
   "outputs": [],
   "source": [
    "sns.countplot(x=tweets.verified)"
   ]
  },
  {
   "cell_type": "markdown",
   "id": "de865764",
   "metadata": {},
   "source": [
    "Hacer el diagrama de barras para la hora"
   ]
  },
  {
   "cell_type": "code",
   "execution_count": null,
   "id": "5bb0e422",
   "metadata": {},
   "outputs": [],
   "source": []
  },
  {
   "cell_type": "markdown",
   "id": "61fd98f8",
   "metadata": {},
   "source": [
    "Cuando la columna es un valor con decimales hacemos el histograma:"
   ]
  },
  {
   "cell_type": "code",
   "execution_count": null,
   "id": "4987709c",
   "metadata": {},
   "outputs": [],
   "source": [
    "tweets.renta.hist()"
   ]
  },
  {
   "cell_type": "markdown",
   "id": "019ab920",
   "metadata": {},
   "source": [
    "También podemos calcular la mediana y la media()"
   ]
  },
  {
   "cell_type": "code",
   "execution_count": null,
   "id": "a60ab4e5",
   "metadata": {},
   "outputs": [],
   "source": [
    "tweets.renta.median(), tweets.renta.mean()"
   ]
  },
  {
   "cell_type": "markdown",
   "id": "8f28257d",
   "metadata": {},
   "source": [
    "Hacer el histograma para la variable sentimiento"
   ]
  },
  {
   "cell_type": "code",
   "execution_count": null,
   "id": "cb9972f8",
   "metadata": {},
   "outputs": [],
   "source": []
  },
  {
   "cell_type": "markdown",
   "id": "8ac58a58",
   "metadata": {},
   "source": [
    "## Filtros\n",
    "\n",
    "En lugar de el conjunto de datos podemos filtrar los datos, esto lo podemos hacer en dos pasos. El siguiente ejemplo se queda solo con tweets que incluyen verbos en pasado:"
   ]
  },
  {
   "cell_type": "code",
   "execution_count": null,
   "id": "7d1f8ed1",
   "metadata": {},
   "outputs": [],
   "source": [
    "# primero definimos la condición\n",
    "filtro = (tweets.futuro>0)\n",
    "\n",
    "# ahora aplicamos el filtro\n",
    "futuro = tweets[filtro]\n",
    "\n",
    "futuro"
   ]
  },
  {
   "cell_type": "markdown",
   "id": "97b7a0cb",
   "metadata": {},
   "source": [
    "Obtener un filtro para quedarse solo con los usuarios verificados (verified==1)"
   ]
  },
  {
   "cell_type": "code",
   "execution_count": null,
   "id": "2eb35143",
   "metadata": {},
   "outputs": [],
   "source": [
    "# primero definimos la condición\n",
    "filtro = \n",
    "\n",
    "# ahora aplicamos el filtro\n",
    "verificados = \n",
    "\n"
   ]
  },
  {
   "cell_type": "markdown",
   "id": "babfd848",
   "metadata": {},
   "source": [
    "Lo mismo para los no verificados "
   ]
  },
  {
   "cell_type": "code",
   "execution_count": null,
   "id": "35e47bfc",
   "metadata": {},
   "outputs": [],
   "source": [
    "# primero definimos la condición\n",
    "filtro = \n",
    "\n",
    "# ahora aplicamos el filtro\n",
    "noverificados = \n",
    "\n",
    "noverificados"
   ]
  },
  {
   "cell_type": "markdown",
   "id": "c3b64249",
   "metadata": {},
   "source": [
    "¿Se muestran más \"alegres\" los verificados? Calcular la media de `sentiment`  en `verificados` y en `noverificados`"
   ]
  },
  {
   "cell_type": "code",
   "execution_count": null,
   "id": "3198b5f7",
   "metadata": {},
   "outputs": [],
   "source": []
  },
  {
   "cell_type": "markdown",
   "id": "ece6da45",
   "metadata": {},
   "source": [
    "Filtro más díficil"
   ]
  },
  {
   "cell_type": "code",
   "execution_count": null,
   "id": "25815550",
   "metadata": {},
   "outputs": [],
   "source": [
    "# renta alta y tweets en futuro\n",
    "filtro = (tweets.renta>35000) & (tweets.futuro>0)\n",
    "\n",
    "renta_alta = tweets[filtro]\n",
    "\n",
    "filtro = (tweets.renta<11000) & (tweets.futuro>0)\n",
    "\n",
    "renta_baja = tweets[filtro]\n"
   ]
  },
  {
   "cell_type": "markdown",
   "id": "aa351246",
   "metadata": {},
   "source": [
    "Calcular la media de `renta_alta` y media de `renta_baja`"
   ]
  },
  {
   "cell_type": "code",
   "execution_count": null,
   "id": "831bd9aa",
   "metadata": {},
   "outputs": [],
   "source": []
  },
  {
   "cell_type": "markdown",
   "id": "1bae5eb7",
   "metadata": {},
   "source": [
    "Otro filtro difícil: calcular el usuario con más tweets"
   ]
  },
  {
   "cell_type": "code",
   "execution_count": null,
   "id": "dfe28f13",
   "metadata": {},
   "outputs": [],
   "source": [
    "M = tweets.tweets.max()\n",
    "filtro = tweets.tweets == M\n",
    "tweets[filtro].head(1) # para mostrar solo el primero"
   ]
  },
  {
   "cell_type": "markdown",
   "id": "6f9043a1",
   "metadata": {},
   "source": [
    "Calcular el usuario con más followers"
   ]
  },
  {
   "cell_type": "code",
   "execution_count": null,
   "id": "19f37f9c",
   "metadata": {},
   "outputs": [],
   "source": []
  },
  {
   "cell_type": "markdown",
   "id": "3ca4fb3a",
   "metadata": {},
   "source": [
    "## Correlaciones"
   ]
  },
  {
   "cell_type": "code",
   "execution_count": null,
   "id": "8583b5b0",
   "metadata": {},
   "outputs": [],
   "source": [
    "tweets.corr().style.background_gradient(cmap=\"Blues\")"
   ]
  },
  {
   "cell_type": "code",
   "execution_count": null,
   "id": "05ae3f87",
   "metadata": {},
   "outputs": [],
   "source": []
  }
 ],
 "metadata": {
  "kernelspec": {
   "display_name": "Python 3 (ipykernel)",
   "language": "python",
   "name": "python3"
  },
  "language_info": {
   "codemirror_mode": {
    "name": "ipython",
    "version": 3
   },
   "file_extension": ".py",
   "mimetype": "text/x-python",
   "name": "python",
   "nbconvert_exporter": "python",
   "pygments_lexer": "ipython3",
   "version": "3.9.12"
  }
 },
 "nbformat": 4,
 "nbformat_minor": 5
}
